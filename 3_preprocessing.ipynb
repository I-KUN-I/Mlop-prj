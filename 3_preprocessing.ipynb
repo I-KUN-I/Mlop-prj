{
 "cells": [
  {
   "cell_type": "code",
   "execution_count": 4,
   "id": "02f1af42",
   "metadata": {},
   "outputs": [],
   "source": [
    "from ydata_profiling import ProfileReport\n",
    "import os\n",
    "from sklearn.preprocessing import LabelEncoder\n",
    "import wandb\n",
    "import pandas as pd \n",
    "from sklearn.decomposition import PCA\n",
    "from sklearn.preprocessing import StandardScaler\n",
    "from sklearn.model_selection import train_test_split"
   ]
  },
  {
   "cell_type": "code",
   "execution_count": 5,
   "id": "d0aee8eb",
   "metadata": {},
   "outputs": [
    {
     "data": {
      "text/html": [
       "Finishing previous runs because reinit is set to 'default'."
      ],
      "text/plain": [
       "<IPython.core.display.HTML object>"
      ]
     },
     "metadata": {},
     "output_type": "display_data"
    },
    {
     "data": {
      "text/html": [],
      "text/plain": [
       "<IPython.core.display.HTML object>"
      ]
     },
     "metadata": {},
     "output_type": "display_data"
    },
    {
     "data": {
      "text/html": [
       " View run <strong style=\"color:#cdcd00\">royal-blaze-111</strong> at: <a href='https://wandb.ai/kngocun-/predict_house_price/runs/6d6pxtwk' target=\"_blank\">https://wandb.ai/kngocun-/predict_house_price/runs/6d6pxtwk</a><br> View project at: <a href='https://wandb.ai/kngocun-/predict_house_price' target=\"_blank\">https://wandb.ai/kngocun-/predict_house_price</a><br>Synced 5 W&B file(s), 0 media file(s), 0 artifact file(s) and 0 other file(s)"
      ],
      "text/plain": [
       "<IPython.core.display.HTML object>"
      ]
     },
     "metadata": {},
     "output_type": "display_data"
    },
    {
     "data": {
      "text/html": [
       "Find logs at: <code>.\\wandb\\run-20250510_101021-6d6pxtwk\\logs</code>"
      ],
      "text/plain": [
       "<IPython.core.display.HTML object>"
      ]
     },
     "metadata": {},
     "output_type": "display_data"
    },
    {
     "data": {
      "text/html": [
       "Tracking run with wandb version 0.19.11"
      ],
      "text/plain": [
       "<IPython.core.display.HTML object>"
      ]
     },
     "metadata": {},
     "output_type": "display_data"
    },
    {
     "data": {
      "text/html": [
       "Run data is saved locally in <code>c:\\Users\\ASUS\\Desktop\\Mlops\\wandb\\run-20250510_101036-sd3gnpri</code>"
      ],
      "text/plain": [
       "<IPython.core.display.HTML object>"
      ]
     },
     "metadata": {},
     "output_type": "display_data"
    },
    {
     "data": {
      "text/html": [
       "Syncing run <strong><a href='https://wandb.ai/kngocun-/predict_house_price/runs/sd3gnpri' target=\"_blank\">revived-glitter-112</a></strong> to <a href='https://wandb.ai/kngocun-/predict_house_price' target=\"_blank\">Weights & Biases</a> (<a href='https://wandb.me/developer-guide' target=\"_blank\">docs</a>)<br>"
      ],
      "text/plain": [
       "<IPython.core.display.HTML object>"
      ]
     },
     "metadata": {},
     "output_type": "display_data"
    },
    {
     "data": {
      "text/html": [
       " View project at <a href='https://wandb.ai/kngocun-/predict_house_price' target=\"_blank\">https://wandb.ai/kngocun-/predict_house_price</a>"
      ],
      "text/plain": [
       "<IPython.core.display.HTML object>"
      ]
     },
     "metadata": {},
     "output_type": "display_data"
    },
    {
     "data": {
      "text/html": [
       " View run at <a href='https://wandb.ai/kngocun-/predict_house_price/runs/sd3gnpri' target=\"_blank\">https://wandb.ai/kngocun-/predict_house_price/runs/sd3gnpri</a>"
      ],
      "text/plain": [
       "<IPython.core.display.HTML object>"
      ]
     },
     "metadata": {},
     "output_type": "display_data"
    },
    {
     "name": "stderr",
     "output_type": "stream",
     "text": [
      "\u001b[34m\u001b[1mwandb\u001b[0m:   1 of 1 files downloaded.  \n"
     ]
    },
    {
     "data": {
      "text/html": [],
      "text/plain": [
       "<IPython.core.display.HTML object>"
      ]
     },
     "metadata": {},
     "output_type": "display_data"
    },
    {
     "data": {
      "text/html": [
       " View run <strong style=\"color:#cdcd00\">revived-glitter-112</strong> at: <a href='https://wandb.ai/kngocun-/predict_house_price/runs/sd3gnpri' target=\"_blank\">https://wandb.ai/kngocun-/predict_house_price/runs/sd3gnpri</a><br> View project at: <a href='https://wandb.ai/kngocun-/predict_house_price' target=\"_blank\">https://wandb.ai/kngocun-/predict_house_price</a><br>Synced 5 W&B file(s), 0 media file(s), 0 artifact file(s) and 0 other file(s)"
      ],
      "text/plain": [
       "<IPython.core.display.HTML object>"
      ]
     },
     "metadata": {},
     "output_type": "display_data"
    },
    {
     "data": {
      "text/html": [
       "Find logs at: <code>.\\wandb\\run-20250510_101036-sd3gnpri\\logs</code>"
      ],
      "text/plain": [
       "<IPython.core.display.HTML object>"
      ]
     },
     "metadata": {},
     "output_type": "display_data"
    }
   ],
   "source": [
    "run = wandb.init(project=\"predict_house_price\", job_type=\"load_data\")\n",
    "\n",
    "artifact = run.use_artifact('clean_data_csv:latest', type='processed_data')\n",
    "\n",
    "artifact_dir = artifact.download()\n",
    "\n",
    "file_path = os.path.join(artifact_dir, \"clean_data.csv\")\n",
    "\n",
    "clean_data = pd.read_csv(file_path, keep_default_na=False)\n",
    "\n",
    "run.finish()"
   ]
  },
  {
   "cell_type": "code",
   "execution_count": 6,
   "id": "4cc66e15",
   "metadata": {},
   "outputs": [
    {
     "name": "stdout",
     "output_type": "stream",
     "text": [
      "<class 'pandas.core.frame.DataFrame'>\n",
      "RangeIndex: 1460 entries, 0 to 1459\n",
      "Data columns (total 75 columns):\n",
      " #   Column         Non-Null Count  Dtype  \n",
      "---  ------         --------------  -----  \n",
      " 0   Unnamed: 0     1460 non-null   int64  \n",
      " 1   Id             1460 non-null   int64  \n",
      " 2   MSSubClass     1460 non-null   int64  \n",
      " 3   MSZoning       1460 non-null   object \n",
      " 4   LotFrontage    1460 non-null   float64\n",
      " 5   LotArea        1460 non-null   float64\n",
      " 6   Street         1460 non-null   object \n",
      " 7   Alley          1460 non-null   object \n",
      " 8   LotShape       1460 non-null   object \n",
      " 9   LandContour    1460 non-null   object \n",
      " 10  Utilities      1460 non-null   object \n",
      " 11  LotConfig      1460 non-null   object \n",
      " 12  LandSlope      1460 non-null   object \n",
      " 13  Neighborhood   1460 non-null   object \n",
      " 14  Condition1     1460 non-null   object \n",
      " 15  Condition2     1460 non-null   object \n",
      " 16  BldgType       1460 non-null   object \n",
      " 17  HouseStyle     1460 non-null   object \n",
      " 18  OverallQual    1460 non-null   int64  \n",
      " 19  OverallCond    1460 non-null   int64  \n",
      " 20  YearBuilt      1460 non-null   int64  \n",
      " 21  YearRemodAdd   1460 non-null   int64  \n",
      " 22  RoofStyle      1460 non-null   object \n",
      " 23  RoofMatl       1460 non-null   object \n",
      " 24  Exterior1st    1460 non-null   object \n",
      " 25  Exterior2nd    1460 non-null   object \n",
      " 26  MasVnrType     1460 non-null   object \n",
      " 27  MasVnrArea     1460 non-null   float64\n",
      " 28  ExterQual      1460 non-null   object \n",
      " 29  ExterCond      1460 non-null   object \n",
      " 30  Foundation     1460 non-null   object \n",
      " 31  BsmtQual       1460 non-null   object \n",
      " 32  BsmtCond       1460 non-null   object \n",
      " 33  BsmtExposure   1460 non-null   object \n",
      " 34  BsmtFinType1   1460 non-null   object \n",
      " 35  BsmtFinSF1     1460 non-null   float64\n",
      " 36  BsmtFinType2   1460 non-null   object \n",
      " 37  BsmtUnfSF      1460 non-null   float64\n",
      " 38  TotalBsmtSF    1460 non-null   int64  \n",
      " 39  Heating        1460 non-null   object \n",
      " 40  HeatingQC      1460 non-null   object \n",
      " 41  CentralAir     1460 non-null   object \n",
      " 42  Electrical     1460 non-null   object \n",
      " 43  1stFlrSF       1460 non-null   float64\n",
      " 44  2ndFlrSF       1460 non-null   float64\n",
      " 45  GrLivArea      1460 non-null   float64\n",
      " 46  BsmtFullBath   1460 non-null   int64  \n",
      " 47  BsmtHalfBath   1460 non-null   int64  \n",
      " 48  FullBath       1460 non-null   int64  \n",
      " 49  HalfBath       1460 non-null   int64  \n",
      " 50  BedroomAbvGr   1460 non-null   int64  \n",
      " 51  KitchenAbvGr   1460 non-null   int64  \n",
      " 52  KitchenQual    1460 non-null   object \n",
      " 53  TotRmsAbvGrd   1460 non-null   int64  \n",
      " 54  Functional     1460 non-null   object \n",
      " 55  Fireplaces     1460 non-null   int64  \n",
      " 56  FireplaceQu    1460 non-null   object \n",
      " 57  GarageType     1460 non-null   object \n",
      " 58  GarageYrBlt    1460 non-null   object \n",
      " 59  GarageFinish   1460 non-null   object \n",
      " 60  GarageCars     1460 non-null   int64  \n",
      " 61  GarageArea     1460 non-null   float64\n",
      " 62  GarageQual     1460 non-null   object \n",
      " 63  GarageCond     1460 non-null   object \n",
      " 64  PavedDrive     1460 non-null   object \n",
      " 65  WoodDeckSF     1460 non-null   float64\n",
      " 66  OpenPorchSF    1460 non-null   float64\n",
      " 67  PoolQC         1460 non-null   object \n",
      " 68  Fence          1460 non-null   object \n",
      " 69  MiscFeature    1460 non-null   object \n",
      " 70  MoSold         1460 non-null   int64  \n",
      " 71  YrSold         1460 non-null   int64  \n",
      " 72  SaleType       1460 non-null   object \n",
      " 73  SaleCondition  1460 non-null   object \n",
      " 74  SalePrice      1460 non-null   float64\n",
      "dtypes: float64(12), int64(19), object(44)\n",
      "memory usage: 855.6+ KB\n"
     ]
    }
   ],
   "source": [
    "clean_data.info()"
   ]
  },
  {
   "cell_type": "code",
   "execution_count": 7,
   "id": "57ee143a",
   "metadata": {},
   "outputs": [],
   "source": [
    "clean_data = clean_data.drop(columns='Id')\n",
    "clean_data = clean_data.drop(columns='Unnamed: 0')\n",
    "clean_data = clean_data.drop(columns='Street')\n",
    "clean_data = clean_data.drop(columns='Utilities')\n",
    "cols_to_drop = ['Heating', 'CentralAir', 'Electrical', 'KitchenAbvGr', 'Functional',\n",
    "                'GarageQual', 'GarageCond', 'PavedDrive', 'PoolQC', 'MiscFeature',\n",
    "                'SaleType', 'SaleCondition', 'LandSlope', 'LandContour','Alley']\n",
    "clean_data.drop(columns=cols_to_drop, inplace=True)\n"
   ]
  },
  {
   "cell_type": "code",
   "execution_count": 8,
   "id": "0ff7e511",
   "metadata": {},
   "outputs": [],
   "source": [
    "count_exterior = clean_data['Exterior1st'].value_counts()\n",
    "\n",
    "rare_types = count_exterior[count_exterior < 10].index.tolist()\n",
    "\n",
    "clean_data['Exterior1st'] = clean_data['Exterior1st'].replace(rare_types, 'Other')\n",
    "\n",
    "count_exterior = clean_data['Exterior2nd'].value_counts()\n",
    "\n",
    "rare_types = count_exterior[count_exterior < 10].index.tolist()\n",
    "\n",
    "clean_data['Exterior2nd'] = clean_data['Exterior2nd'].replace(rare_types, 'Other')\n",
    "count_BsmtFinType2 = clean_data['BsmtFinType2'].value_counts()\n",
    "rare_type = count_BsmtFinType2[count_BsmtFinType2 < 100].index.tolist()\n",
    "clean_data['BsmtFinType2'] = clean_data['BsmtFinType2'].replace(rare_type, 'Other')\n",
    "count_GarageType = clean_data['GarageType'].value_counts()\n",
    "rare_type = count_GarageType[count_GarageType < 30].index.tolist()\n",
    "clean_data['GarageType'] = clean_data['GarageType'].replace(rare_type, 'Other')\n",
    "count = clean_data['Fence'].value_counts()\n",
    "rare_type = count[count < 60].index.tolist()\n",
    "clean_data['Fence'] = clean_data['Fence'].replace(rare_type, 'Other')"
   ]
  },
  {
   "cell_type": "code",
   "execution_count": 9,
   "id": "8b15ca97",
   "metadata": {},
   "outputs": [],
   "source": [
    "clean_data['GarageYrBlt'] = clean_data['GarageYrBlt'].replace('None', 0)\n",
    "clean_data['GarageYrBlt'] = clean_data['GarageYrBlt'].astype(str)"
   ]
  },
  {
   "cell_type": "code",
   "execution_count": 10,
   "id": "9b3f77ec",
   "metadata": {},
   "outputs": [],
   "source": [
    "label_encoder = LabelEncoder()\n",
    "\n",
    "clean_data['MSSubClass'] = label_encoder.fit_transform(clean_data['MSSubClass'])\n",
    "clean_data['LotShape'] = label_encoder.fit_transform(clean_data['LotShape'])\n",
    "clean_data['Neighborhood'] = label_encoder.fit_transform(clean_data['Neighborhood'])\n",
    "clean_data['Condition1'] = label_encoder.fit_transform(clean_data['Condition1'])\n",
    "clean_data['Condition2'] = label_encoder.fit_transform(clean_data['Condition2'])\n",
    "clean_data['HouseStyle'] = label_encoder.fit_transform(clean_data['HouseStyle'])\n",
    "clean_data['RoofMatl'] = label_encoder.fit_transform(clean_data['RoofMatl'])\n",
    "clean_data['Exterior1st'] = label_encoder.fit_transform(clean_data['Exterior1st'])\n",
    "clean_data['MasVnrType'] = label_encoder.fit_transform(clean_data['MasVnrType'])\n",
    "cols_to_encode = [\n",
    "    'ExterQual', 'ExterCond', 'BsmtQual', 'BsmtCond', \n",
    "    'BsmtExposure', 'BsmtFinType1', 'KitchenQual','BsmtFinType2',\n",
    "    'FireplaceQu', 'GarageFinish','HeatingQC','BsmtFullBath','Exterior2nd'\n",
    "]\n",
    "\n",
    "for col in cols_to_encode:\n",
    "    clean_data[col] = label_encoder.fit_transform(clean_data[col])\n"
   ]
  },
  {
   "cell_type": "code",
   "execution_count": 11,
   "id": "6966328a",
   "metadata": {},
   "outputs": [],
   "source": [
    "\n",
    "clean_data = pd.get_dummies(clean_data, columns=[\"MSZoning\"],drop_first=True)\n",
    "clean_data = pd.get_dummies(clean_data, columns=[\"LotConfig\"],drop_first=True)\n",
    "clean_data = pd.get_dummies(clean_data, columns=[\"BldgType\"],drop_first=True)\n",
    "clean_data = pd.get_dummies(clean_data, columns=[\"YearBuilt\"],drop_first=True)\n",
    "clean_data = pd.get_dummies(clean_data, columns=[\"YearRemodAdd\"],drop_first=True)\n",
    "clean_data = pd.get_dummies(clean_data, columns=[\"RoofStyle\"],drop_first=True)\n",
    "cols_to_onehot = ['Foundation', 'YrSold', 'MoSold', 'GarageType','GarageYrBlt','Fence']\n",
    "\n",
    "clean_data = pd.get_dummies(clean_data, columns=cols_to_onehot, drop_first=True)\n",
    "\n"
   ]
  },
  {
   "cell_type": "code",
   "execution_count": 12,
   "id": "8b643ccf",
   "metadata": {},
   "outputs": [],
   "source": [
    "clean_data['LotShape'] = clean_data['LotShape'].astype(int)"
   ]
  },
  {
   "cell_type": "code",
   "execution_count": 13,
   "id": "795d294b",
   "metadata": {},
   "outputs": [
    {
     "data": {
      "text/html": [
       "<div>\n",
       "<style scoped>\n",
       "    .dataframe tbody tr th:only-of-type {\n",
       "        vertical-align: middle;\n",
       "    }\n",
       "\n",
       "    .dataframe tbody tr th {\n",
       "        vertical-align: top;\n",
       "    }\n",
       "\n",
       "    .dataframe thead th {\n",
       "        text-align: right;\n",
       "    }\n",
       "</style>\n",
       "<table border=\"1\" class=\"dataframe\">\n",
       "  <thead>\n",
       "    <tr style=\"text-align: right;\">\n",
       "      <th></th>\n",
       "      <th>MSSubClass</th>\n",
       "      <th>LotFrontage</th>\n",
       "      <th>LotArea</th>\n",
       "      <th>LotShape</th>\n",
       "      <th>Neighborhood</th>\n",
       "      <th>Condition1</th>\n",
       "      <th>Condition2</th>\n",
       "      <th>HouseStyle</th>\n",
       "      <th>OverallQual</th>\n",
       "      <th>OverallCond</th>\n",
       "      <th>...</th>\n",
       "      <th>GarageYrBlt_2003.0</th>\n",
       "      <th>GarageYrBlt_2004.0</th>\n",
       "      <th>GarageYrBlt_2005.0</th>\n",
       "      <th>GarageYrBlt_2006.0</th>\n",
       "      <th>GarageYrBlt_2007.0</th>\n",
       "      <th>GarageYrBlt_2008.0</th>\n",
       "      <th>GarageYrBlt_2009.0</th>\n",
       "      <th>GarageYrBlt_2010.0</th>\n",
       "      <th>Fence_None</th>\n",
       "      <th>Fence_Other</th>\n",
       "    </tr>\n",
       "  </thead>\n",
       "  <tbody>\n",
       "    <tr>\n",
       "      <th>0</th>\n",
       "      <td>5</td>\n",
       "      <td>65.0</td>\n",
       "      <td>8450.0</td>\n",
       "      <td>3</td>\n",
       "      <td>5</td>\n",
       "      <td>2</td>\n",
       "      <td>2</td>\n",
       "      <td>5</td>\n",
       "      <td>7</td>\n",
       "      <td>5</td>\n",
       "      <td>...</td>\n",
       "      <td>True</td>\n",
       "      <td>False</td>\n",
       "      <td>False</td>\n",
       "      <td>False</td>\n",
       "      <td>False</td>\n",
       "      <td>False</td>\n",
       "      <td>False</td>\n",
       "      <td>False</td>\n",
       "      <td>True</td>\n",
       "      <td>False</td>\n",
       "    </tr>\n",
       "    <tr>\n",
       "      <th>1</th>\n",
       "      <td>0</td>\n",
       "      <td>80.0</td>\n",
       "      <td>9600.0</td>\n",
       "      <td>3</td>\n",
       "      <td>24</td>\n",
       "      <td>1</td>\n",
       "      <td>2</td>\n",
       "      <td>2</td>\n",
       "      <td>6</td>\n",
       "      <td>8</td>\n",
       "      <td>...</td>\n",
       "      <td>False</td>\n",
       "      <td>False</td>\n",
       "      <td>False</td>\n",
       "      <td>False</td>\n",
       "      <td>False</td>\n",
       "      <td>False</td>\n",
       "      <td>False</td>\n",
       "      <td>False</td>\n",
       "      <td>True</td>\n",
       "      <td>False</td>\n",
       "    </tr>\n",
       "    <tr>\n",
       "      <th>2</th>\n",
       "      <td>5</td>\n",
       "      <td>68.0</td>\n",
       "      <td>11250.0</td>\n",
       "      <td>0</td>\n",
       "      <td>5</td>\n",
       "      <td>2</td>\n",
       "      <td>2</td>\n",
       "      <td>5</td>\n",
       "      <td>7</td>\n",
       "      <td>5</td>\n",
       "      <td>...</td>\n",
       "      <td>False</td>\n",
       "      <td>False</td>\n",
       "      <td>False</td>\n",
       "      <td>False</td>\n",
       "      <td>False</td>\n",
       "      <td>False</td>\n",
       "      <td>False</td>\n",
       "      <td>False</td>\n",
       "      <td>True</td>\n",
       "      <td>False</td>\n",
       "    </tr>\n",
       "    <tr>\n",
       "      <th>3</th>\n",
       "      <td>6</td>\n",
       "      <td>60.0</td>\n",
       "      <td>9550.0</td>\n",
       "      <td>0</td>\n",
       "      <td>6</td>\n",
       "      <td>2</td>\n",
       "      <td>2</td>\n",
       "      <td>5</td>\n",
       "      <td>7</td>\n",
       "      <td>5</td>\n",
       "      <td>...</td>\n",
       "      <td>False</td>\n",
       "      <td>False</td>\n",
       "      <td>False</td>\n",
       "      <td>False</td>\n",
       "      <td>False</td>\n",
       "      <td>False</td>\n",
       "      <td>False</td>\n",
       "      <td>False</td>\n",
       "      <td>True</td>\n",
       "      <td>False</td>\n",
       "    </tr>\n",
       "    <tr>\n",
       "      <th>4</th>\n",
       "      <td>5</td>\n",
       "      <td>84.0</td>\n",
       "      <td>14260.0</td>\n",
       "      <td>0</td>\n",
       "      <td>15</td>\n",
       "      <td>2</td>\n",
       "      <td>2</td>\n",
       "      <td>5</td>\n",
       "      <td>8</td>\n",
       "      <td>5</td>\n",
       "      <td>...</td>\n",
       "      <td>False</td>\n",
       "      <td>False</td>\n",
       "      <td>False</td>\n",
       "      <td>False</td>\n",
       "      <td>False</td>\n",
       "      <td>False</td>\n",
       "      <td>False</td>\n",
       "      <td>False</td>\n",
       "      <td>True</td>\n",
       "      <td>False</td>\n",
       "    </tr>\n",
       "  </tbody>\n",
       "</table>\n",
       "<p>5 rows × 355 columns</p>\n",
       "</div>"
      ],
      "text/plain": [
       "   MSSubClass  LotFrontage  LotArea  LotShape  Neighborhood  Condition1  \\\n",
       "0           5         65.0   8450.0         3             5           2   \n",
       "1           0         80.0   9600.0         3            24           1   \n",
       "2           5         68.0  11250.0         0             5           2   \n",
       "3           6         60.0   9550.0         0             6           2   \n",
       "4           5         84.0  14260.0         0            15           2   \n",
       "\n",
       "   Condition2  HouseStyle  OverallQual  OverallCond  ...  GarageYrBlt_2003.0  \\\n",
       "0           2           5            7            5  ...                True   \n",
       "1           2           2            6            8  ...               False   \n",
       "2           2           5            7            5  ...               False   \n",
       "3           2           5            7            5  ...               False   \n",
       "4           2           5            8            5  ...               False   \n",
       "\n",
       "   GarageYrBlt_2004.0  GarageYrBlt_2005.0  GarageYrBlt_2006.0  \\\n",
       "0               False               False               False   \n",
       "1               False               False               False   \n",
       "2               False               False               False   \n",
       "3               False               False               False   \n",
       "4               False               False               False   \n",
       "\n",
       "   GarageYrBlt_2007.0  GarageYrBlt_2008.0  GarageYrBlt_2009.0  \\\n",
       "0               False               False               False   \n",
       "1               False               False               False   \n",
       "2               False               False               False   \n",
       "3               False               False               False   \n",
       "4               False               False               False   \n",
       "\n",
       "   GarageYrBlt_2010.0  Fence_None  Fence_Other  \n",
       "0               False        True        False  \n",
       "1               False        True        False  \n",
       "2               False        True        False  \n",
       "3               False        True        False  \n",
       "4               False        True        False  \n",
       "\n",
       "[5 rows x 355 columns]"
      ]
     },
     "execution_count": 13,
     "metadata": {},
     "output_type": "execute_result"
    }
   ],
   "source": [
    "clean_data.head()"
   ]
  },
  {
   "cell_type": "code",
   "execution_count": null,
   "id": "ebbd7da4",
   "metadata": {},
   "outputs": [],
   "source": [
    "ProfileReport(clean_data, title='kun', explorative=True)"
   ]
  },
  {
   "cell_type": "code",
   "execution_count": 15,
   "id": "d3ae78ce",
   "metadata": {},
   "outputs": [
    {
     "data": {
      "text/html": [
       "<div>\n",
       "<style scoped>\n",
       "    .dataframe tbody tr th:only-of-type {\n",
       "        vertical-align: middle;\n",
       "    }\n",
       "\n",
       "    .dataframe tbody tr th {\n",
       "        vertical-align: top;\n",
       "    }\n",
       "\n",
       "    .dataframe thead th {\n",
       "        text-align: right;\n",
       "    }\n",
       "</style>\n",
       "<table border=\"1\" class=\"dataframe\">\n",
       "  <thead>\n",
       "    <tr style=\"text-align: right;\">\n",
       "      <th></th>\n",
       "      <th>MSSubClass</th>\n",
       "      <th>LotFrontage</th>\n",
       "      <th>LotArea</th>\n",
       "      <th>LotShape</th>\n",
       "      <th>Neighborhood</th>\n",
       "      <th>Condition1</th>\n",
       "      <th>Condition2</th>\n",
       "      <th>HouseStyle</th>\n",
       "      <th>OverallQual</th>\n",
       "      <th>OverallCond</th>\n",
       "      <th>...</th>\n",
       "      <th>GarageYrBlt_2003.0</th>\n",
       "      <th>GarageYrBlt_2004.0</th>\n",
       "      <th>GarageYrBlt_2005.0</th>\n",
       "      <th>GarageYrBlt_2006.0</th>\n",
       "      <th>GarageYrBlt_2007.0</th>\n",
       "      <th>GarageYrBlt_2008.0</th>\n",
       "      <th>GarageYrBlt_2009.0</th>\n",
       "      <th>GarageYrBlt_2010.0</th>\n",
       "      <th>Fence_None</th>\n",
       "      <th>Fence_Other</th>\n",
       "    </tr>\n",
       "  </thead>\n",
       "  <tbody>\n",
       "    <tr>\n",
       "      <th>0</th>\n",
       "      <td>5</td>\n",
       "      <td>65.0</td>\n",
       "      <td>8450.0</td>\n",
       "      <td>3</td>\n",
       "      <td>5</td>\n",
       "      <td>2</td>\n",
       "      <td>2</td>\n",
       "      <td>5</td>\n",
       "      <td>7</td>\n",
       "      <td>5</td>\n",
       "      <td>...</td>\n",
       "      <td>True</td>\n",
       "      <td>False</td>\n",
       "      <td>False</td>\n",
       "      <td>False</td>\n",
       "      <td>False</td>\n",
       "      <td>False</td>\n",
       "      <td>False</td>\n",
       "      <td>False</td>\n",
       "      <td>True</td>\n",
       "      <td>False</td>\n",
       "    </tr>\n",
       "    <tr>\n",
       "      <th>1</th>\n",
       "      <td>0</td>\n",
       "      <td>80.0</td>\n",
       "      <td>9600.0</td>\n",
       "      <td>3</td>\n",
       "      <td>24</td>\n",
       "      <td>1</td>\n",
       "      <td>2</td>\n",
       "      <td>2</td>\n",
       "      <td>6</td>\n",
       "      <td>8</td>\n",
       "      <td>...</td>\n",
       "      <td>False</td>\n",
       "      <td>False</td>\n",
       "      <td>False</td>\n",
       "      <td>False</td>\n",
       "      <td>False</td>\n",
       "      <td>False</td>\n",
       "      <td>False</td>\n",
       "      <td>False</td>\n",
       "      <td>True</td>\n",
       "      <td>False</td>\n",
       "    </tr>\n",
       "    <tr>\n",
       "      <th>2</th>\n",
       "      <td>5</td>\n",
       "      <td>68.0</td>\n",
       "      <td>11250.0</td>\n",
       "      <td>0</td>\n",
       "      <td>5</td>\n",
       "      <td>2</td>\n",
       "      <td>2</td>\n",
       "      <td>5</td>\n",
       "      <td>7</td>\n",
       "      <td>5</td>\n",
       "      <td>...</td>\n",
       "      <td>False</td>\n",
       "      <td>False</td>\n",
       "      <td>False</td>\n",
       "      <td>False</td>\n",
       "      <td>False</td>\n",
       "      <td>False</td>\n",
       "      <td>False</td>\n",
       "      <td>False</td>\n",
       "      <td>True</td>\n",
       "      <td>False</td>\n",
       "    </tr>\n",
       "    <tr>\n",
       "      <th>3</th>\n",
       "      <td>6</td>\n",
       "      <td>60.0</td>\n",
       "      <td>9550.0</td>\n",
       "      <td>0</td>\n",
       "      <td>6</td>\n",
       "      <td>2</td>\n",
       "      <td>2</td>\n",
       "      <td>5</td>\n",
       "      <td>7</td>\n",
       "      <td>5</td>\n",
       "      <td>...</td>\n",
       "      <td>False</td>\n",
       "      <td>False</td>\n",
       "      <td>False</td>\n",
       "      <td>False</td>\n",
       "      <td>False</td>\n",
       "      <td>False</td>\n",
       "      <td>False</td>\n",
       "      <td>False</td>\n",
       "      <td>True</td>\n",
       "      <td>False</td>\n",
       "    </tr>\n",
       "    <tr>\n",
       "      <th>4</th>\n",
       "      <td>5</td>\n",
       "      <td>84.0</td>\n",
       "      <td>14260.0</td>\n",
       "      <td>0</td>\n",
       "      <td>15</td>\n",
       "      <td>2</td>\n",
       "      <td>2</td>\n",
       "      <td>5</td>\n",
       "      <td>8</td>\n",
       "      <td>5</td>\n",
       "      <td>...</td>\n",
       "      <td>False</td>\n",
       "      <td>False</td>\n",
       "      <td>False</td>\n",
       "      <td>False</td>\n",
       "      <td>False</td>\n",
       "      <td>False</td>\n",
       "      <td>False</td>\n",
       "      <td>False</td>\n",
       "      <td>True</td>\n",
       "      <td>False</td>\n",
       "    </tr>\n",
       "  </tbody>\n",
       "</table>\n",
       "<p>5 rows × 355 columns</p>\n",
       "</div>"
      ],
      "text/plain": [
       "   MSSubClass  LotFrontage  LotArea  LotShape  Neighborhood  Condition1  \\\n",
       "0           5         65.0   8450.0         3             5           2   \n",
       "1           0         80.0   9600.0         3            24           1   \n",
       "2           5         68.0  11250.0         0             5           2   \n",
       "3           6         60.0   9550.0         0             6           2   \n",
       "4           5         84.0  14260.0         0            15           2   \n",
       "\n",
       "   Condition2  HouseStyle  OverallQual  OverallCond  ...  GarageYrBlt_2003.0  \\\n",
       "0           2           5            7            5  ...                True   \n",
       "1           2           2            6            8  ...               False   \n",
       "2           2           5            7            5  ...               False   \n",
       "3           2           5            7            5  ...               False   \n",
       "4           2           5            8            5  ...               False   \n",
       "\n",
       "   GarageYrBlt_2004.0  GarageYrBlt_2005.0  GarageYrBlt_2006.0  \\\n",
       "0               False               False               False   \n",
       "1               False               False               False   \n",
       "2               False               False               False   \n",
       "3               False               False               False   \n",
       "4               False               False               False   \n",
       "\n",
       "   GarageYrBlt_2007.0  GarageYrBlt_2008.0  GarageYrBlt_2009.0  \\\n",
       "0               False               False               False   \n",
       "1               False               False               False   \n",
       "2               False               False               False   \n",
       "3               False               False               False   \n",
       "4               False               False               False   \n",
       "\n",
       "   GarageYrBlt_2010.0  Fence_None  Fence_Other  \n",
       "0               False        True        False  \n",
       "1               False        True        False  \n",
       "2               False        True        False  \n",
       "3               False        True        False  \n",
       "4               False        True        False  \n",
       "\n",
       "[5 rows x 355 columns]"
      ]
     },
     "execution_count": 15,
     "metadata": {},
     "output_type": "execute_result"
    }
   ],
   "source": [
    "clean_data.head()"
   ]
  },
  {
   "cell_type": "code",
   "execution_count": 16,
   "id": "cedd5556",
   "metadata": {},
   "outputs": [
    {
     "data": {
      "text/html": [
       "Tracking run with wandb version 0.19.11"
      ],
      "text/plain": [
       "<IPython.core.display.HTML object>"
      ]
     },
     "metadata": {},
     "output_type": "display_data"
    },
    {
     "data": {
      "text/html": [
       "Run data is saved locally in <code>c:\\Users\\ASUS\\Desktop\\Mlops\\wandb\\run-20250510_101046-ubtyd232</code>"
      ],
      "text/plain": [
       "<IPython.core.display.HTML object>"
      ]
     },
     "metadata": {},
     "output_type": "display_data"
    },
    {
     "data": {
      "text/html": [
       "Syncing run <strong><a href='https://wandb.ai/kngocun-/predict_house_price/runs/ubtyd232' target=\"_blank\">dutiful-rain-113</a></strong> to <a href='https://wandb.ai/kngocun-/predict_house_price' target=\"_blank\">Weights & Biases</a> (<a href='https://wandb.me/developer-guide' target=\"_blank\">docs</a>)<br>"
      ],
      "text/plain": [
       "<IPython.core.display.HTML object>"
      ]
     },
     "metadata": {},
     "output_type": "display_data"
    },
    {
     "data": {
      "text/html": [
       " View project at <a href='https://wandb.ai/kngocun-/predict_house_price' target=\"_blank\">https://wandb.ai/kngocun-/predict_house_price</a>"
      ],
      "text/plain": [
       "<IPython.core.display.HTML object>"
      ]
     },
     "metadata": {},
     "output_type": "display_data"
    },
    {
     "data": {
      "text/html": [
       " View run at <a href='https://wandb.ai/kngocun-/predict_house_price/runs/ubtyd232' target=\"_blank\">https://wandb.ai/kngocun-/predict_house_price/runs/ubtyd232</a>"
      ],
      "text/plain": [
       "<IPython.core.display.HTML object>"
      ]
     },
     "metadata": {},
     "output_type": "display_data"
    },
    {
     "data": {
      "text/html": [],
      "text/plain": [
       "<IPython.core.display.HTML object>"
      ]
     },
     "metadata": {},
     "output_type": "display_data"
    },
    {
     "data": {
      "text/html": [
       " View run <strong style=\"color:#cdcd00\">dutiful-rain-113</strong> at: <a href='https://wandb.ai/kngocun-/predict_house_price/runs/ubtyd232' target=\"_blank\">https://wandb.ai/kngocun-/predict_house_price/runs/ubtyd232</a><br> View project at: <a href='https://wandb.ai/kngocun-/predict_house_price' target=\"_blank\">https://wandb.ai/kngocun-/predict_house_price</a><br>Synced 5 W&B file(s), 0 media file(s), 0 artifact file(s) and 0 other file(s)"
      ],
      "text/plain": [
       "<IPython.core.display.HTML object>"
      ]
     },
     "metadata": {},
     "output_type": "display_data"
    },
    {
     "data": {
      "text/html": [
       "Find logs at: <code>.\\wandb\\run-20250510_101046-ubtyd232\\logs</code>"
      ],
      "text/plain": [
       "<IPython.core.display.HTML object>"
      ]
     },
     "metadata": {},
     "output_type": "display_data"
    }
   ],
   "source": [
    "run = wandb.init(project=\"predict_house_price\", job_type=\"upload_encoded_data\")\n",
    "\n",
    "artifact = wandb.Artifact(\n",
    "    name=\"encoded_data_csv\",\n",
    "    type=\"processed_data\",\n",
    "    description=\"Data đã encode xong\"\n",
    ")\n",
    "\n",
    "clean_data.to_csv(\"encoded_data.csv\", index=False)\n",
    "\n",
    "artifact.add_file(\"encoded_data.csv\")\n",
    "\n",
    "run.log_artifact(artifact)\n",
    "run.finish()\n"
   ]
  },
  {
   "cell_type": "code",
   "execution_count": 17,
   "id": "efce4e12",
   "metadata": {},
   "outputs": [
    {
     "data": {
      "text/html": [
       "Tracking run with wandb version 0.19.11"
      ],
      "text/plain": [
       "<IPython.core.display.HTML object>"
      ]
     },
     "metadata": {},
     "output_type": "display_data"
    },
    {
     "data": {
      "text/html": [
       "Run data is saved locally in <code>c:\\Users\\ASUS\\Desktop\\Mlops\\wandb\\run-20250510_101050-c2s6bev2</code>"
      ],
      "text/plain": [
       "<IPython.core.display.HTML object>"
      ]
     },
     "metadata": {},
     "output_type": "display_data"
    },
    {
     "data": {
      "text/html": [
       "Syncing run <strong><a href='https://wandb.ai/kngocun-/predict_house_price/runs/c2s6bev2' target=\"_blank\">olive-wave-114</a></strong> to <a href='https://wandb.ai/kngocun-/predict_house_price' target=\"_blank\">Weights & Biases</a> (<a href='https://wandb.me/developer-guide' target=\"_blank\">docs</a>)<br>"
      ],
      "text/plain": [
       "<IPython.core.display.HTML object>"
      ]
     },
     "metadata": {},
     "output_type": "display_data"
    },
    {
     "data": {
      "text/html": [
       " View project at <a href='https://wandb.ai/kngocun-/predict_house_price' target=\"_blank\">https://wandb.ai/kngocun-/predict_house_price</a>"
      ],
      "text/plain": [
       "<IPython.core.display.HTML object>"
      ]
     },
     "metadata": {},
     "output_type": "display_data"
    },
    {
     "data": {
      "text/html": [
       " View run at <a href='https://wandb.ai/kngocun-/predict_house_price/runs/c2s6bev2' target=\"_blank\">https://wandb.ai/kngocun-/predict_house_price/runs/c2s6bev2</a>"
      ],
      "text/plain": [
       "<IPython.core.display.HTML object>"
      ]
     },
     "metadata": {},
     "output_type": "display_data"
    },
    {
     "name": "stderr",
     "output_type": "stream",
     "text": [
      "\u001b[34m\u001b[1mwandb\u001b[0m:   1 of 1 files downloaded.  \n"
     ]
    },
    {
     "data": {
      "text/html": [],
      "text/plain": [
       "<IPython.core.display.HTML object>"
      ]
     },
     "metadata": {},
     "output_type": "display_data"
    },
    {
     "data": {
      "text/html": [
       " View run <strong style=\"color:#cdcd00\">olive-wave-114</strong> at: <a href='https://wandb.ai/kngocun-/predict_house_price/runs/c2s6bev2' target=\"_blank\">https://wandb.ai/kngocun-/predict_house_price/runs/c2s6bev2</a><br> View project at: <a href='https://wandb.ai/kngocun-/predict_house_price' target=\"_blank\">https://wandb.ai/kngocun-/predict_house_price</a><br>Synced 5 W&B file(s), 0 media file(s), 0 artifact file(s) and 0 other file(s)"
      ],
      "text/plain": [
       "<IPython.core.display.HTML object>"
      ]
     },
     "metadata": {},
     "output_type": "display_data"
    },
    {
     "data": {
      "text/html": [
       "Find logs at: <code>.\\wandb\\run-20250510_101050-c2s6bev2\\logs</code>"
      ],
      "text/plain": [
       "<IPython.core.display.HTML object>"
      ]
     },
     "metadata": {},
     "output_type": "display_data"
    },
    {
     "name": "stdout",
     "output_type": "stream",
     "text": [
      "<class 'pandas.core.frame.DataFrame'>\n",
      "RangeIndex: 1460 entries, 0 to 1459\n",
      "Columns: 355 entries, MSSubClass to Fence_Other\n",
      "dtypes: bool(311), float64(12), int64(32)\n",
      "memory usage: 945.4 KB\n"
     ]
    }
   ],
   "source": [
    "run = wandb.init(project=\"predict_house_price\", job_type=\"load_encoded_data\")\n",
    "\n",
    "artifact = run.use_artifact('encoded_data_csv:latest', type='processed_data')\n",
    "\n",
    "artifact_dir = artifact.download()\n",
    "\n",
    "file_path = os.path.join(artifact_dir, \"encoded_data.csv\")\n",
    "encode_data = pd.read_csv(file_path, keep_default_na=False)\n",
    "\n",
    "run.finish()\n",
    "\n",
    "encode_data.info()"
   ]
  },
  {
   "cell_type": "code",
   "execution_count": 18,
   "id": "274b858b",
   "metadata": {},
   "outputs": [],
   "source": [
    "train_data, test_data = train_test_split(encode_data, test_size=0.2, random_state=42)\n",
    "train_price = train_data['SalePrice']\n",
    "test_price = test_data['SalePrice']"
   ]
  },
  {
   "cell_type": "code",
   "execution_count": 19,
   "id": "11f300ad",
   "metadata": {},
   "outputs": [],
   "source": [
    "scaler = StandardScaler()\n",
    "train_data = train_data.drop(columns='SalePrice')\n",
    "test_data = test_data.drop(columns='SalePrice')\n",
    "\n",
    "\n",
    "scaled_train = scaler.fit_transform(train_data)\n",
    "\n",
    "pca = PCA(n_components=0.9) \n",
    "train_pca = pca.fit_transform(scaled_train)\n",
    "\n",
    "scaled_test = scaler.transform(test_data) \n",
    "test_pca = pca.transform(scaled_test)"
   ]
  },
  {
   "cell_type": "code",
   "execution_count": 27,
   "id": "c57556ef",
   "metadata": {},
   "outputs": [
    {
     "data": {
      "text/html": [
       "Tracking run with wandb version 0.19.11"
      ],
      "text/plain": [
       "<IPython.core.display.HTML object>"
      ]
     },
     "metadata": {},
     "output_type": "display_data"
    },
    {
     "data": {
      "text/html": [
       "Run data is saved locally in <code>c:\\Users\\ASUS\\Desktop\\Mlops\\wandb\\run-20250510_101841-h9nfcerl</code>"
      ],
      "text/plain": [
       "<IPython.core.display.HTML object>"
      ]
     },
     "metadata": {},
     "output_type": "display_data"
    },
    {
     "data": {
      "text/html": [
       "Syncing run <strong><a href='https://wandb.ai/kngocun-/predict_house_price/runs/h9nfcerl' target=\"_blank\">apricot-leaf-119</a></strong> to <a href='https://wandb.ai/kngocun-/predict_house_price' target=\"_blank\">Weights & Biases</a> (<a href='https://wandb.me/developer-guide' target=\"_blank\">docs</a>)<br>"
      ],
      "text/plain": [
       "<IPython.core.display.HTML object>"
      ]
     },
     "metadata": {},
     "output_type": "display_data"
    },
    {
     "data": {
      "text/html": [
       " View project at <a href='https://wandb.ai/kngocun-/predict_house_price' target=\"_blank\">https://wandb.ai/kngocun-/predict_house_price</a>"
      ],
      "text/plain": [
       "<IPython.core.display.HTML object>"
      ]
     },
     "metadata": {},
     "output_type": "display_data"
    },
    {
     "data": {
      "text/html": [
       " View run at <a href='https://wandb.ai/kngocun-/predict_house_price/runs/h9nfcerl' target=\"_blank\">https://wandb.ai/kngocun-/predict_house_price/runs/h9nfcerl</a>"
      ],
      "text/plain": [
       "<IPython.core.display.HTML object>"
      ]
     },
     "metadata": {},
     "output_type": "display_data"
    },
    {
     "data": {
      "text/html": [],
      "text/plain": [
       "<IPython.core.display.HTML object>"
      ]
     },
     "metadata": {},
     "output_type": "display_data"
    },
    {
     "data": {
      "text/html": [
       " View run <strong style=\"color:#cdcd00\">apricot-leaf-119</strong> at: <a href='https://wandb.ai/kngocun-/predict_house_price/runs/h9nfcerl' target=\"_blank\">https://wandb.ai/kngocun-/predict_house_price/runs/h9nfcerl</a><br> View project at: <a href='https://wandb.ai/kngocun-/predict_house_price' target=\"_blank\">https://wandb.ai/kngocun-/predict_house_price</a><br>Synced 5 W&B file(s), 0 media file(s), 0 artifact file(s) and 0 other file(s)"
      ],
      "text/plain": [
       "<IPython.core.display.HTML object>"
      ]
     },
     "metadata": {},
     "output_type": "display_data"
    },
    {
     "data": {
      "text/html": [
       "Find logs at: <code>.\\wandb\\run-20250510_101841-h9nfcerl\\logs</code>"
      ],
      "text/plain": [
       "<IPython.core.display.HTML object>"
      ]
     },
     "metadata": {},
     "output_type": "display_data"
    }
   ],
   "source": [
    "run = wandb.init(project=\"predict_house_price\", job_type='upload_pca_data')\n",
    "\n",
    "output_dir = \"pca_data\"\n",
    "os.makedirs(output_dir, exist_ok=True)\n",
    "\n",
    "train = pd.DataFrame(train_pca)\n",
    "test = pd.DataFrame(test_pca)\n",
    "\n",
    "train = pd.concat([train, train_price], axis=1)\n",
    "test = pd.concat([test, test_price], axis=1)\n",
    "\n",
    "# Lưu các tệp CSV\n",
    "train.to_csv(os.path.join(output_dir, \"train_pca.csv\"), index=True)\n",
    "test.to_csv(os.path.join(output_dir, \"test_pca.csv\"), index=True)\n",
    "\n",
    "# Tạo artifact chung cho cả train và test data\n",
    "artifact = wandb.Artifact(\n",
    "    name=\"pca_train_test_data\",\n",
    "    type=\"processed_data\",\n",
    "    description=\"Dữ liệu đã giảm chiều bằng PCA cho tập huấn luyện và kiểm tra\"\n",
    ")\n",
    "artifact.add_file(os.path.join(output_dir, \"train_pca.csv\"))\n",
    "artifact.add_file(os.path.join(output_dir, \"test_pca.csv\"))\n",
    "\n",
    "run.log_artifact(artifact)\n",
    "\n",
    "run.finish()"
   ]
  },
  {
   "cell_type": "code",
   "execution_count": 28,
   "id": "5bb47a24",
   "metadata": {},
   "outputs": [
    {
     "data": {
      "text/html": [
       "<div>\n",
       "<style scoped>\n",
       "    .dataframe tbody tr th:only-of-type {\n",
       "        vertical-align: middle;\n",
       "    }\n",
       "\n",
       "    .dataframe tbody tr th {\n",
       "        vertical-align: top;\n",
       "    }\n",
       "\n",
       "    .dataframe thead th {\n",
       "        text-align: right;\n",
       "    }\n",
       "</style>\n",
       "<table border=\"1\" class=\"dataframe\">\n",
       "  <thead>\n",
       "    <tr style=\"text-align: right;\">\n",
       "      <th></th>\n",
       "      <th>0</th>\n",
       "      <th>1</th>\n",
       "      <th>2</th>\n",
       "      <th>3</th>\n",
       "      <th>4</th>\n",
       "      <th>5</th>\n",
       "      <th>6</th>\n",
       "      <th>7</th>\n",
       "      <th>8</th>\n",
       "      <th>9</th>\n",
       "      <th>...</th>\n",
       "      <th>172</th>\n",
       "      <th>173</th>\n",
       "      <th>174</th>\n",
       "      <th>175</th>\n",
       "      <th>176</th>\n",
       "      <th>177</th>\n",
       "      <th>178</th>\n",
       "      <th>179</th>\n",
       "      <th>180</th>\n",
       "      <th>SalePrice</th>\n",
       "    </tr>\n",
       "  </thead>\n",
       "  <tbody>\n",
       "    <tr>\n",
       "      <th>0</th>\n",
       "      <td>-3.465046</td>\n",
       "      <td>2.003614</td>\n",
       "      <td>-2.337112</td>\n",
       "      <td>0.625203</td>\n",
       "      <td>1.749804</td>\n",
       "      <td>-1.644305</td>\n",
       "      <td>0.848225</td>\n",
       "      <td>-0.079741</td>\n",
       "      <td>0.489529</td>\n",
       "      <td>-0.012128</td>\n",
       "      <td>...</td>\n",
       "      <td>2.388997</td>\n",
       "      <td>-0.387202</td>\n",
       "      <td>-0.625418</td>\n",
       "      <td>-0.124685</td>\n",
       "      <td>0.058783</td>\n",
       "      <td>1.469777</td>\n",
       "      <td>-1.112187</td>\n",
       "      <td>0.146271</td>\n",
       "      <td>0.277965</td>\n",
       "      <td>35.571272</td>\n",
       "    </tr>\n",
       "    <tr>\n",
       "      <th>1</th>\n",
       "      <td>1.156931</td>\n",
       "      <td>-1.923973</td>\n",
       "      <td>3.162625</td>\n",
       "      <td>0.384509</td>\n",
       "      <td>1.834586</td>\n",
       "      <td>-1.454244</td>\n",
       "      <td>1.347688</td>\n",
       "      <td>-0.061673</td>\n",
       "      <td>-1.408657</td>\n",
       "      <td>-0.728276</td>\n",
       "      <td>...</td>\n",
       "      <td>0.076233</td>\n",
       "      <td>0.921250</td>\n",
       "      <td>-0.081282</td>\n",
       "      <td>-0.526487</td>\n",
       "      <td>0.448888</td>\n",
       "      <td>-1.109097</td>\n",
       "      <td>0.088652</td>\n",
       "      <td>0.420363</td>\n",
       "      <td>0.273267</td>\n",
       "      <td>34.695145</td>\n",
       "    </tr>\n",
       "    <tr>\n",
       "      <th>2</th>\n",
       "      <td>-4.181091</td>\n",
       "      <td>-1.874748</td>\n",
       "      <td>-1.647798</td>\n",
       "      <td>1.056050</td>\n",
       "      <td>1.396762</td>\n",
       "      <td>-0.753138</td>\n",
       "      <td>-0.485954</td>\n",
       "      <td>0.727332</td>\n",
       "      <td>-0.307305</td>\n",
       "      <td>0.171797</td>\n",
       "      <td>...</td>\n",
       "      <td>-0.360859</td>\n",
       "      <td>0.895835</td>\n",
       "      <td>-0.161059</td>\n",
       "      <td>0.144963</td>\n",
       "      <td>0.936472</td>\n",
       "      <td>-0.313252</td>\n",
       "      <td>0.907100</td>\n",
       "      <td>-0.196673</td>\n",
       "      <td>0.369800</td>\n",
       "      <td>36.017124</td>\n",
       "    </tr>\n",
       "    <tr>\n",
       "      <th>3</th>\n",
       "      <td>-1.920495</td>\n",
       "      <td>-0.731728</td>\n",
       "      <td>1.313737</td>\n",
       "      <td>0.716718</td>\n",
       "      <td>0.805871</td>\n",
       "      <td>-1.232299</td>\n",
       "      <td>0.484163</td>\n",
       "      <td>-1.219782</td>\n",
       "      <td>-0.335806</td>\n",
       "      <td>-0.317952</td>\n",
       "      <td>...</td>\n",
       "      <td>0.818367</td>\n",
       "      <td>-0.075121</td>\n",
       "      <td>1.414949</td>\n",
       "      <td>-1.267170</td>\n",
       "      <td>-0.166323</td>\n",
       "      <td>1.095086</td>\n",
       "      <td>0.862464</td>\n",
       "      <td>0.836658</td>\n",
       "      <td>-1.881756</td>\n",
       "      <td>33.103676</td>\n",
       "    </tr>\n",
       "    <tr>\n",
       "      <th>4</th>\n",
       "      <td>-2.773087</td>\n",
       "      <td>-1.568648</td>\n",
       "      <td>-0.636241</td>\n",
       "      <td>0.751213</td>\n",
       "      <td>-0.441466</td>\n",
       "      <td>-0.682491</td>\n",
       "      <td>0.635083</td>\n",
       "      <td>0.323721</td>\n",
       "      <td>0.044335</td>\n",
       "      <td>0.540443</td>\n",
       "      <td>...</td>\n",
       "      <td>0.306696</td>\n",
       "      <td>-0.242849</td>\n",
       "      <td>-1.288103</td>\n",
       "      <td>0.487185</td>\n",
       "      <td>0.045176</td>\n",
       "      <td>-0.819731</td>\n",
       "      <td>0.366608</td>\n",
       "      <td>-0.526518</td>\n",
       "      <td>1.173175</td>\n",
       "      <td>36.746176</td>\n",
       "    </tr>\n",
       "    <tr>\n",
       "      <th>...</th>\n",
       "      <td>...</td>\n",
       "      <td>...</td>\n",
       "      <td>...</td>\n",
       "      <td>...</td>\n",
       "      <td>...</td>\n",
       "      <td>...</td>\n",
       "      <td>...</td>\n",
       "      <td>...</td>\n",
       "      <td>...</td>\n",
       "      <td>...</td>\n",
       "      <td>...</td>\n",
       "      <td>...</td>\n",
       "      <td>...</td>\n",
       "      <td>...</td>\n",
       "      <td>...</td>\n",
       "      <td>...</td>\n",
       "      <td>...</td>\n",
       "      <td>...</td>\n",
       "      <td>...</td>\n",
       "      <td>...</td>\n",
       "      <td>...</td>\n",
       "    </tr>\n",
       "    <tr>\n",
       "      <th>1437</th>\n",
       "      <td>NaN</td>\n",
       "      <td>NaN</td>\n",
       "      <td>NaN</td>\n",
       "      <td>NaN</td>\n",
       "      <td>NaN</td>\n",
       "      <td>NaN</td>\n",
       "      <td>NaN</td>\n",
       "      <td>NaN</td>\n",
       "      <td>NaN</td>\n",
       "      <td>NaN</td>\n",
       "      <td>...</td>\n",
       "      <td>NaN</td>\n",
       "      <td>NaN</td>\n",
       "      <td>NaN</td>\n",
       "      <td>NaN</td>\n",
       "      <td>NaN</td>\n",
       "      <td>NaN</td>\n",
       "      <td>NaN</td>\n",
       "      <td>NaN</td>\n",
       "      <td>NaN</td>\n",
       "      <td>38.812289</td>\n",
       "    </tr>\n",
       "    <tr>\n",
       "      <th>1332</th>\n",
       "      <td>NaN</td>\n",
       "      <td>NaN</td>\n",
       "      <td>NaN</td>\n",
       "      <td>NaN</td>\n",
       "      <td>NaN</td>\n",
       "      <td>NaN</td>\n",
       "      <td>NaN</td>\n",
       "      <td>NaN</td>\n",
       "      <td>NaN</td>\n",
       "      <td>NaN</td>\n",
       "      <td>...</td>\n",
       "      <td>NaN</td>\n",
       "      <td>NaN</td>\n",
       "      <td>NaN</td>\n",
       "      <td>NaN</td>\n",
       "      <td>NaN</td>\n",
       "      <td>NaN</td>\n",
       "      <td>NaN</td>\n",
       "      <td>NaN</td>\n",
       "      <td>NaN</td>\n",
       "      <td>31.131946</td>\n",
       "    </tr>\n",
       "    <tr>\n",
       "      <th>1396</th>\n",
       "      <td>NaN</td>\n",
       "      <td>NaN</td>\n",
       "      <td>NaN</td>\n",
       "      <td>NaN</td>\n",
       "      <td>NaN</td>\n",
       "      <td>NaN</td>\n",
       "      <td>NaN</td>\n",
       "      <td>NaN</td>\n",
       "      <td>NaN</td>\n",
       "      <td>NaN</td>\n",
       "      <td>...</td>\n",
       "      <td>NaN</td>\n",
       "      <td>NaN</td>\n",
       "      <td>NaN</td>\n",
       "      <td>NaN</td>\n",
       "      <td>NaN</td>\n",
       "      <td>NaN</td>\n",
       "      <td>NaN</td>\n",
       "      <td>NaN</td>\n",
       "      <td>NaN</td>\n",
       "      <td>33.914432</td>\n",
       "    </tr>\n",
       "    <tr>\n",
       "      <th>1238</th>\n",
       "      <td>NaN</td>\n",
       "      <td>NaN</td>\n",
       "      <td>NaN</td>\n",
       "      <td>NaN</td>\n",
       "      <td>NaN</td>\n",
       "      <td>NaN</td>\n",
       "      <td>NaN</td>\n",
       "      <td>NaN</td>\n",
       "      <td>NaN</td>\n",
       "      <td>NaN</td>\n",
       "      <td>...</td>\n",
       "      <td>NaN</td>\n",
       "      <td>NaN</td>\n",
       "      <td>NaN</td>\n",
       "      <td>NaN</td>\n",
       "      <td>NaN</td>\n",
       "      <td>NaN</td>\n",
       "      <td>NaN</td>\n",
       "      <td>NaN</td>\n",
       "      <td>NaN</td>\n",
       "      <td>33.210201</td>\n",
       "    </tr>\n",
       "    <tr>\n",
       "      <th>1294</th>\n",
       "      <td>NaN</td>\n",
       "      <td>NaN</td>\n",
       "      <td>NaN</td>\n",
       "      <td>NaN</td>\n",
       "      <td>NaN</td>\n",
       "      <td>NaN</td>\n",
       "      <td>NaN</td>\n",
       "      <td>NaN</td>\n",
       "      <td>NaN</td>\n",
       "      <td>NaN</td>\n",
       "      <td>...</td>\n",
       "      <td>NaN</td>\n",
       "      <td>NaN</td>\n",
       "      <td>NaN</td>\n",
       "      <td>NaN</td>\n",
       "      <td>NaN</td>\n",
       "      <td>NaN</td>\n",
       "      <td>NaN</td>\n",
       "      <td>NaN</td>\n",
       "      <td>NaN</td>\n",
       "      <td>31.938777</td>\n",
       "    </tr>\n",
       "  </tbody>\n",
       "</table>\n",
       "<p>1410 rows × 182 columns</p>\n",
       "</div>"
      ],
      "text/plain": [
       "             0         1         2         3         4         5         6  \\\n",
       "0    -3.465046  2.003614 -2.337112  0.625203  1.749804 -1.644305  0.848225   \n",
       "1     1.156931 -1.923973  3.162625  0.384509  1.834586 -1.454244  1.347688   \n",
       "2    -4.181091 -1.874748 -1.647798  1.056050  1.396762 -0.753138 -0.485954   \n",
       "3    -1.920495 -0.731728  1.313737  0.716718  0.805871 -1.232299  0.484163   \n",
       "4    -2.773087 -1.568648 -0.636241  0.751213 -0.441466 -0.682491  0.635083   \n",
       "...        ...       ...       ...       ...       ...       ...       ...   \n",
       "1437       NaN       NaN       NaN       NaN       NaN       NaN       NaN   \n",
       "1332       NaN       NaN       NaN       NaN       NaN       NaN       NaN   \n",
       "1396       NaN       NaN       NaN       NaN       NaN       NaN       NaN   \n",
       "1238       NaN       NaN       NaN       NaN       NaN       NaN       NaN   \n",
       "1294       NaN       NaN       NaN       NaN       NaN       NaN       NaN   \n",
       "\n",
       "             7         8         9  ...       172       173       174  \\\n",
       "0    -0.079741  0.489529 -0.012128  ...  2.388997 -0.387202 -0.625418   \n",
       "1    -0.061673 -1.408657 -0.728276  ...  0.076233  0.921250 -0.081282   \n",
       "2     0.727332 -0.307305  0.171797  ... -0.360859  0.895835 -0.161059   \n",
       "3    -1.219782 -0.335806 -0.317952  ...  0.818367 -0.075121  1.414949   \n",
       "4     0.323721  0.044335  0.540443  ...  0.306696 -0.242849 -1.288103   \n",
       "...        ...       ...       ...  ...       ...       ...       ...   \n",
       "1437       NaN       NaN       NaN  ...       NaN       NaN       NaN   \n",
       "1332       NaN       NaN       NaN  ...       NaN       NaN       NaN   \n",
       "1396       NaN       NaN       NaN  ...       NaN       NaN       NaN   \n",
       "1238       NaN       NaN       NaN  ...       NaN       NaN       NaN   \n",
       "1294       NaN       NaN       NaN  ...       NaN       NaN       NaN   \n",
       "\n",
       "           175       176       177       178       179       180  SalePrice  \n",
       "0    -0.124685  0.058783  1.469777 -1.112187  0.146271  0.277965  35.571272  \n",
       "1    -0.526487  0.448888 -1.109097  0.088652  0.420363  0.273267  34.695145  \n",
       "2     0.144963  0.936472 -0.313252  0.907100 -0.196673  0.369800  36.017124  \n",
       "3    -1.267170 -0.166323  1.095086  0.862464  0.836658 -1.881756  33.103676  \n",
       "4     0.487185  0.045176 -0.819731  0.366608 -0.526518  1.173175  36.746176  \n",
       "...        ...       ...       ...       ...       ...       ...        ...  \n",
       "1437       NaN       NaN       NaN       NaN       NaN       NaN  38.812289  \n",
       "1332       NaN       NaN       NaN       NaN       NaN       NaN  31.131946  \n",
       "1396       NaN       NaN       NaN       NaN       NaN       NaN  33.914432  \n",
       "1238       NaN       NaN       NaN       NaN       NaN       NaN  33.210201  \n",
       "1294       NaN       NaN       NaN       NaN       NaN       NaN  31.938777  \n",
       "\n",
       "[1410 rows x 182 columns]"
      ]
     },
     "execution_count": 28,
     "metadata": {},
     "output_type": "execute_result"
    }
   ],
   "source": [
    "train "
   ]
  }
 ],
 "metadata": {
  "kernelspec": {
   "display_name": ".env",
   "language": "python",
   "name": "python3"
  },
  "language_info": {
   "codemirror_mode": {
    "name": "ipython",
    "version": 3
   },
   "file_extension": ".py",
   "mimetype": "text/x-python",
   "name": "python",
   "nbconvert_exporter": "python",
   "pygments_lexer": "ipython3",
   "version": "3.12.7"
  }
 },
 "nbformat": 4,
 "nbformat_minor": 5
}
