{
 "cells": [
  {
   "cell_type": "code",
   "execution_count": 1,
   "id": "1b4ecea3",
   "metadata": {},
   "outputs": [],
   "source": [
    "import wandb \n",
    "import pandas as pd"
   ]
  },
  {
   "cell_type": "code",
   "execution_count": 2,
   "id": "56a57416",
   "metadata": {},
   "outputs": [
    {
     "name": "stdout",
     "output_type": "stream",
     "text": [
      "   Id  MSSubClass MSZoning  LotFrontage  LotArea Street Alley LotShape  \\\n",
      "0   1          60       RL         65.0     8450   Pave   NaN      Reg   \n",
      "1   2          20       RL         80.0     9600   Pave   NaN      Reg   \n",
      "2   3          60       RL         68.0    11250   Pave   NaN      IR1   \n",
      "3   4          70       RL         60.0     9550   Pave   NaN      IR1   \n",
      "4   5          60       RL         84.0    14260   Pave   NaN      IR1   \n",
      "\n",
      "  LandContour Utilities  ... PoolArea PoolQC Fence MiscFeature MiscVal MoSold  \\\n",
      "0         Lvl    AllPub  ...        0    NaN   NaN         NaN       0      2   \n",
      "1         Lvl    AllPub  ...        0    NaN   NaN         NaN       0      5   \n",
      "2         Lvl    AllPub  ...        0    NaN   NaN         NaN       0      9   \n",
      "3         Lvl    AllPub  ...        0    NaN   NaN         NaN       0      2   \n",
      "4         Lvl    AllPub  ...        0    NaN   NaN         NaN       0     12   \n",
      "\n",
      "  YrSold  SaleType  SaleCondition  SalePrice  \n",
      "0   2008        WD         Normal     208500  \n",
      "1   2007        WD         Normal     181500  \n",
      "2   2008        WD         Normal     223500  \n",
      "3   2006        WD        Abnorml     140000  \n",
      "4   2008        WD         Normal     250000  \n",
      "\n",
      "[5 rows x 81 columns]"
     ]
    }
   ],
   "source": [
    "train = pd.read_csv(r\"C:\\Users\\ASUS\\Desktop\\Mlop prj\\house-prices-advanced-regression-techniques\\train.csv\")\n",
    "train.head(5)"
   ]
  },
  {
   "cell_type": "code",
   "execution_count": 3,
   "id": "3648731a",
   "metadata": {},
   "outputs": [],
   "source": [
    "train.info()"
   ]
  },
  {
   "cell_type": "code",
   "execution_count": 4,
   "id": "017b5c14",
   "metadata": {},
   "outputs": [],
   "source": [
    "# save vào raw_data.csv \n",
    "train.to_csv(\"raw_data.csv\", index=False)\n",
    "# load vào wandb\n",
    "import os \n",
    "from dotenv import load_dotenv\n",
    "load_dotenv()\n",
    "\n",
    "WANDB_API_KEY = os.environ.get(\"WANDB_API_KEY\")"
   ]
  },
  {
   "cell_type": "code",
   "execution_count": 5,
   "id": "361e396e",
   "metadata": {},
   "outputs": [
    {
     "name": "stdout",
     "output_type": "stream",
     "text": [
      "True"
     ]
    }
   ],
   "source": [
    "wandb.login()"
   ]
  },
  {
   "cell_type": "code",
   "execution_count": 6,
   "id": "a8d5d6a0",
   "metadata": {},
   "outputs": [
    {
     "name": "stdout",
     "output_type": "stream",
     "text": [
      "<Artifact raw_data_csv>"
     ]
    },
    {
     "data": {
      "text/html": [
       "Tracking run with wandb version 0.19.11"
      ],
      "text/plain": [
       "<IPython.core.display.HTML object>"
      ]
     },
     "metadata": {},
     "output_type": "display_data"
    },
    {
     "data": {
      "text/html": [
       "Run data is saved locally in <code>c:\\Users\\ASUS\\Desktop\\Mlop prj\\wandb\\run-20250510_152908-74g17kak</code>"
      ],
      "text/plain": [
       "<IPython.core.display.HTML object>"
      ]
     },
     "metadata": {},
     "output_type": "display_data"
    },
    {
     "data": {
      "text/html": [
       "Syncing run <strong><a href='https://wandb.ai/kngocun-/predict_house_price/runs/74g17kak' target=\"_blank\">tough-pyramid-134</a></strong> to <a href='https://wandb.ai/kngocun-/predict_house_price' target=\"_blank\">Weights & Biases</a> (<a href='https://wandb.me/developer-guide' target=\"_blank\">docs</a>)<br>"
      ],
      "text/plain": [
       "<IPython.core.display.HTML object>"
      ]
     },
     "metadata": {},
     "output_type": "display_data"
    },
    {
     "data": {
      "text/html": [
       " View project at <a href='https://wandb.ai/kngocun-/predict_house_price' target=\"_blank\">https://wandb.ai/kngocun-/predict_house_price</a>"
      ],
      "text/plain": [
       "<IPython.core.display.HTML object>"
      ]
     },
     "metadata": {},
     "output_type": "display_data"
    },
    {
     "data": {
      "text/html": [
       " View run at <a href='https://wandb.ai/kngocun-/predict_house_price/runs/74g17kak' target=\"_blank\">https://wandb.ai/kngocun-/predict_house_price/runs/74g17kak</a>"
      ],
      "text/plain": [
       "<IPython.core.display.HTML object>"
      ]
     },
     "metadata": {},
     "output_type": "display_data"
    }
   ],
   "source": [
    "run = wandb.init(project=\"predict_house_price\", save_code=True)\n",
    "\n",
    "artifact = wandb.Artifact(\n",
    "    name=\"raw_data_csv\",       \n",
    "    type=\"raw_data\",           \n",
    "    description=\"Housing price raw data\"  \n",
    ")\n",
    "\n",
    "artifact.add_file(\"raw_data.csv\")  \n",
    "\n",
    "run.log_artifact(artifact)                      "
   ]
  },
  {
   "cell_type": "code",
   "execution_count": 7,
   "id": "de23c2eb",
   "metadata": {},
   "outputs": [],
   "source": [
    "run = wandb.init(project=\"predict_house_price\", job_type=\"load_data\")\n",
    "\n",
    "artifact = run.use_artifact('raw_data_csv:latest', type='raw_data')\n",
    "\n",
    "artifact_dir = artifact.download()\n",
    "\n",
    "file_path = os.path.join(artifact_dir, \"raw_data.csv\")\n",
    "\n",
    "train = pd.read_csv(file_path)\n",
    "\n",
    "run.finish()\n",
    "train.info()"
   ]
  }
 ],
 "metadata": {
  "kernelspec": {
   "display_name": "Python 3",
   "language": "python",
   "name": "python3"
  },
  "language_info": {
   "codemirror_mode": {
    "name": "ipython",
    "version": 3
   },
   "file_extension": ".py",
   "mimetype": "text/x-python",
   "name": "python",
   "nbconvert_exporter": "python",
   "pygments_lexer": "ipython3",
   "version": "3.12.7"
  }
 },
 "nbformat": 4,
 "nbformat_minor": 5
}
